{
 "cells": [
  {
   "cell_type": "markdown",
   "metadata": {},
   "source": [
    "# F# ML.NET Test\n",
    "\n",
    "This is a experiment of personally using F# for Jupyter notebook machine learning. I feel like the language suits this case better then C# because of F#'s simple syntax and the language does not allow for cyclic dependencies (unless specified)."
   ]
  },
  {
   "cell_type": "code",
   "execution_count": 1,
   "metadata": {},
   "outputs": [],
   "source": [
    "#r \"nuget:Microsoft.ML,1.4.0\"\n",
    "#r \"nuget:XPlot.Plotly,3.0.1\""
   ]
  },
  {
   "cell_type": "code",
   "execution_count": 2,
   "metadata": {},
   "outputs": [
    {
     "data": {
      "text/html": [
       "Installing package Microsoft.ML, version 1.4.0.done!"
      ]
     },
     "metadata": {},
     "output_type": "display_data"
    },
    {
     "data": {
      "text/html": [
       "Installing package XPlot.Plotly, version 3.0.1.done!"
      ]
     },
     "metadata": {},
     "output_type": "display_data"
    }
   ],
   "source": [
    "open System\n",
    "open System.IO\n",
    "open Microsoft.ML\n",
    "open Microsoft.ML.Data"
   ]
  },
  {
   "cell_type": "code",
   "execution_count": 3,
   "metadata": {},
   "outputs": [],
   "source": [
    "/// Type representing the text to run sentiment analysis on.\n",
    "[<CLIMutable>] \n",
    "type SentimentIssue = \n",
    "    { \n",
    "        [<LoadColumn(0)>]\n",
    "        Label : bool\n",
    "\n",
    "        [<LoadColumn(2)>]\n",
    "        Text : string \n",
    "    }\n",
    "\n",
    "/// Result of sentiment prediction.\n",
    "[<CLIMutable>]\n",
    "type  SentimentPrediction = \n",
    "    { \n",
    "        // ColumnName attribute is used to change the column name from\n",
    "        // its default value, which is the name of the field.\n",
    "        [<ColumnName(\"PredictedLabel\")>]\n",
    "        Prediction : bool; \n",
    "\n",
    "        // No need to specify ColumnName attribute, because the field\n",
    "        // name \"Probability\" is the column name we want.\n",
    "        Probability : float32; \n",
    "\n",
    "        Score : float32 \n",
    "    }"
   ]
  },
  {
   "cell_type": "code",
   "execution_count": 4,
   "metadata": {},
   "outputs": [],
   "source": [
    "let ctx = MLContext()"
   ]
  },
  {
   "cell_type": "code",
   "execution_count": 5,
   "metadata": {},
   "outputs": [],
   "source": [
    "// Load in the data\n",
    "let dataView = ctx.Data.LoadFromTextFile<SentimentIssue>(Path.Combine(\"data\", \"wikiDetoxAnnotated40kRows.tsv\"), hasHeader = true)\n",
    "\n",
    "// Split data into test and training sets\n",
    "let trainTestSplit = ctx.Data.TrainTestSplit(dataView, testFraction = 0.2)\n",
    "let trainingDataView = trainTestSplit.TrainSet\n",
    "let testDataView = trainTestSplit.TestSet"
   ]
  },
  {
   "cell_type": "code",
   "execution_count": null,
   "metadata": {},
   "outputs": [],
   "source": []
  }
 ],
 "metadata": {
  "kernelspec": {
   "display_name": ".NET (F#)",
   "language": "F#",
   "name": ".net-fsharp"
  },
  "language_info": {
   "file_extension": ".fs",
   "mimetype": "text/x-fsharp",
   "name": "C#",
   "pygments_lexer": "fsharp",
   "version": "4.5"
  }
 },
 "nbformat": 4,
 "nbformat_minor": 4
}
